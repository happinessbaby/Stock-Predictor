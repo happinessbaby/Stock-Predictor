{
 "cells": [
  {
   "attachments": {},
   "cell_type": "markdown",
   "metadata": {},
   "source": [
    "How does the Prophet Algorithm differ from an LSTM?\n",
    "\n",
    "The Prophet algorithm is a statistical model that is used to capture additive components in time-series data, while LSTM is a neural network model that is usedto capture patterns and dependencies in time-series data.The Prophet algorithm is faster to train because it doesn't have LSTM's complex architecture which includes backpropagation."
   ]
  },
  {
   "attachments": {},
   "cell_type": "markdown",
   "metadata": {},
   "source": [
    "Why does an LSTM have poor performance against ARIMA and Profit for Time Series?\n",
    "\n",
    "LSTM's complexity makes it more time consuming to train and most computational costly. It also requires a lot more data than ARIMA and Profit. LSTMs is also more prone to overfitting, especially when the amount of training data is limited or when the model architecture is too complex. Hyperparameter tuning is also more complicated in LSTM. All these factors added together make LSTM less easy to implement correctly, thus leading to poorer performance than models that are easier to train and need less data."
   ]
  },
  {
   "cell_type": "code",
   "execution_count": null,
   "metadata": {
    "vscode": {
     "languageId": "plaintext"
    }
   },
   "outputs": [],
   "source": [
    "What is exponential smoothing and why is it used in Time Series Forecasting?\n",
    "\n",
    "Exponential smoothing is a time-series forecasting technique that uses a weighted average of past observations to make predictions about future values. \n",
    "In exponential smoothing, more recent observations are given more weight than older observations, with the weight decreasing exponentially as the observation gets older."
   ]
  },
  {
   "attachments": {},
   "cell_type": "markdown",
   "metadata": {},
   "source": [
    "What is stationarity? What is seasonality? Why Is Stationarity Important in Time Series Forecasting?\n",
    "\n",
    "A stationary time series is one in which the statistical properties of the data, such as mean, variance, and autocorrelation, do not change over time. Stationary time series exhibits a stable behavior and is not influenced by external factors such as trends, seasonality, or cycles. \n",
    "Seasonality in time series forecasting  on the other hand refers to the repetitive and predictable patterns that occur at regular intervals within a time series.\n",
    "Overall, Stationarity is important because stationary time series are easier to predict, easier to generalize, and some time series model such as ARIMA assume Staitonary as their condition."
   ]
  },
  {
   "attachments": {},
   "cell_type": "markdown",
   "metadata": {},
   "source": [
    "How is seasonality different from cyclicality? Fill in the blanks:\n",
    "Seasonality is predictable, whereas cyclicality is not."
   ]
  }
 ],
 "metadata": {
  "language_info": {
   "name": "python"
  },
  "orig_nbformat": 4
 },
 "nbformat": 4,
 "nbformat_minor": 2
}
