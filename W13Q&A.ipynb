{
 "cells": [
  {
   "attachments": {},
   "cell_type": "markdown",
   "metadata": {},
   "source": [
    "What does it mean to create a Docker image and why do we use Docker images?\n",
    "\n",
    "Creating a Docker image means packaging an application into a self-contained unit that can be run in a Docker container. A Docker image is a snapshot of a Docker container that includes all the necessary files and software required to run the application or service. Docker image is portable, scalable, and is a single isolated unit. "
   ]
  },
  {
   "attachments": {},
   "cell_type": "markdown",
   "metadata": {},
   "source": [
    "Please explain what is the difference from a Container vs a Virtual Machine?\n",
    "\n",
    "Virtual machines provide complete isolation between the host and guest operating systems, while containers share the same kernel as the host operating system, providing a lighter level of isolation. Containers are more portable than virtual machines because they can be moved easily between different hosts."
   ]
  },
  {
   "attachments": {},
   "cell_type": "markdown",
   "metadata": {},
   "source": [
    "What are 5 examples of container orchestration tools (please list tools)?\n",
    "\n",
    "Kubernetes, OpenShift, EKS, ECS, Mesos"
   ]
  },
  {
   "attachments": {},
   "cell_type": "markdown",
   "metadata": {},
   "source": [
    "How does a Docker image differ from a Docker container?\n",
    "\n",
    "A Docker image contains a set of instructions for creating a Docker container. It includes everything needed to run an application, such as the code, dependencies, system libraries, and runtime environment. Docker images are built using Dockerfiles, which specify the configuration of the image and the steps to build it. Once an image is built, it can be used to create Docker containers."
   ]
  }
 ],
 "metadata": {
  "language_info": {
   "name": "python"
  },
  "orig_nbformat": 4
 },
 "nbformat": 4,
 "nbformat_minor": 2
}
